{
 "cells": [
  {
   "cell_type": "code",
   "execution_count": 1,
   "metadata": {},
   "outputs": [
    {
     "name": "stderr",
     "output_type": "stream",
     "text": [
      "c:\\Users\\abfernan\\AppData\\Local\\anaconda3\\envs\\GISAuto\\Lib\\site-packages\\torchvision\\io\\image.py:13: UserWarning: Failed to load image Python extension: '[WinError 127] The specified procedure could not be found'If you don't plan on using image functionality from `torchvision.io`, you can ignore this warning. Otherwise, there might be something wrong with your environment. Did you have `libjpeg` or `libpng` installed before building `torchvision` from source?\n",
      "  warn(\n"
     ]
    }
   ],
   "source": [
    "import util as U"
   ]
  },
  {
   "cell_type": "code",
   "execution_count": 3,
   "metadata": {},
   "outputs": [
    {
     "name": "stdout",
     "output_type": "stream",
     "text": [
      "List created from csv : ->> C:\\Users\\abfernan\\CrossCanFloodMapping\\FloodMappingProjData\\HRDTMByAOI\\A_DatasetsForMLP\\RegionalModelingExplorationDatasets\\IndividualsClass1ForRegModelingExpl\\InferenceDatasets\\LabelRastCombined_MultibandFullBasin_BandList_Class1_DatasetsList.csv\n"
     ]
    },
    {
     "data": {
      "text/plain": [
       "True"
      ]
     },
     "execution_count": 3,
     "metadata": {},
     "output_type": "execute_result"
    }
   ],
   "source": [
    "listSourceCsv = r'C:\\Users\\abfernan\\CrossCanFloodMapping\\FloodMappingProjData\\HRDTMByAOI\\A_DatasetsForMLP\\RegionalModelingExplorationDatasets\\IndividualsClass1ForRegModelingExpl\\InferenceDatasets\\LabelRastCombined_MultibandFullBasin_BandList_Class1_DatasetsList.csv'\n",
    "\n",
    "listDataF = U.createListFromCSV(listSourceCsv)\n",
    "destWDir = r'C:\\Users\\abfernan\\CrossCanFloodMapping\\FloodMappingProjData\\HRDTMByAOI\\A_DatasetsForMLP\\RegionalModelingExplorationDatasets\\IndividualsClass1ForRegModelingExpl\\InferenceDatasets'\n",
    "outList = []\n",
    "\n",
    "for i in listDataF:\n",
    "    # print(i)\n",
    "    parentPath,name,ext = U.get_parenPath_name_ext(i)\n",
    "    destPath = U.makePath(destWDir,(name+ext))\n",
    "    U.makeFileCopy(i,destPath)\n",
    "    outList.append(destPath)\n",
    "\n",
    "\n",
    "listOutCsv = r'C:\\Users\\abfernan\\CrossCanFloodMapping\\FloodMappingProjData\\HRDTMByAOI\\A_DatasetsForMLP\\RegionalModelingExplorationDatasets\\IndividualsClass1ForRegModelingExpl\\InferenceDatasets\\LabelRastCombined_MultibandFullBasin_BandList_Class1_DatasetsList_local.csv'\n",
    "\n",
    "U.createCSVFromList(listOutCsv,outList)\n"
   ]
  },
  {
   "cell_type": "code",
   "execution_count": null,
   "metadata": {},
   "outputs": [],
   "source": []
  }
 ],
 "metadata": {
  "kernelspec": {
   "display_name": "GISAuto",
   "language": "python",
   "name": "python3"
  },
  "language_info": {
   "codemirror_mode": {
    "name": "ipython",
    "version": 3
   },
   "file_extension": ".py",
   "mimetype": "text/x-python",
   "name": "python",
   "nbconvert_exporter": "python",
   "pygments_lexer": "ipython3",
   "version": "3.11.6"
  },
  "orig_nbformat": 4
 },
 "nbformat": 4,
 "nbformat_minor": 2
}
